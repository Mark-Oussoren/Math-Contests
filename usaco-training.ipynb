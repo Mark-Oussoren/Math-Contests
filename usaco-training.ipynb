{
 "cells": [
  {
   "cell_type": "markdown",
   "id": "e692e689",
   "metadata": {},
   "source": [
    "# USA Computing Olympiad Practice\n",
    "\n",
    "I have never dabbled with anything remotely close to IOI problems before, but I plan on doing so this summer. Just a few problems daily to train for a competition I won't compete in :). "
   ]
  },
  {
   "cell_type": "markdown",
   "id": "6838942c",
   "metadata": {},
   "source": [
    "# Sources\n",
    "\n",
    "- https://train.usaco.org\n",
    "\n",
    "- https://ioinformatics.org/page/getting-started/14\n",
    "\n",
    "- https://m.cplusplus.com/doc/tutorial/"
   ]
  }
 ],
 "metadata": {
  "kernelspec": {
   "display_name": "Python 3 (ipykernel)",
   "language": "python",
   "name": "python3"
  },
  "language_info": {
   "codemirror_mode": {
    "name": "ipython",
    "version": 3
   },
   "file_extension": ".py",
   "mimetype": "text/x-python",
   "name": "python",
   "nbconvert_exporter": "python",
   "pygments_lexer": "ipython3",
   "version": "3.9.10"
  }
 },
 "nbformat": 4,
 "nbformat_minor": 5
}
