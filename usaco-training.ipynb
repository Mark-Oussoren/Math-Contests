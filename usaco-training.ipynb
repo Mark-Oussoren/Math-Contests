{
 "cells": [
  {
   "cell_type": "markdown",
   "id": "e692e689",
   "metadata": {},
   "source": [
    "# USA Computing Olympiad Practice\n",
    "\n",
    "I have never dabbled with anything remotely close to IOI problems before, but I plan on doing so this summer. Just a few problems daily to train for a competition I won't compete in :). "
   ]
  },
  {
   "cell_type": "markdown",
   "id": "6838942c",
   "metadata": {},
   "source": [
    "# Sources\n",
    "\n",
    "- https://train.usaco.org\n",
    "\n",
    "- https://ioinformatics.org/page/getting-started/14\n",
    "\n",
    "- https://m.cplusplus.com/doc/tutorial/"
   ]
  },
  {
   "cell_type": "code",
   "execution_count": 4,
   "id": "73c650b4",
   "metadata": {},
   "outputs": [
    {
     "data": {
      "text/plain": [
       "191340108036"
      ]
     },
     "execution_count": 4,
     "metadata": {},
     "output_type": "execute_result"
    }
   ],
   "source": [
    "a = \"COMETQ\"\n",
    "ans = [ord(x) for x in list(a)]\n",
    "res = 1\n",
    "for i in ans:\n",
    "    res *= i\n",
    "res"
   ]
  },
  {
   "cell_type": "code",
   "execution_count": 5,
   "id": "fa4112cf",
   "metadata": {},
   "outputs": [
    {
     "data": {
      "text/plain": [
       "189406687752"
      ]
     },
     "execution_count": 5,
     "metadata": {},
     "output_type": "execute_result"
    }
   ],
   "source": [
    "res - 1933420284"
   ]
  }
 ],
 "metadata": {
  "kernelspec": {
   "display_name": "Python 3 (ipykernel)",
   "language": "python",
   "name": "python3"
  },
  "language_info": {
   "codemirror_mode": {
    "name": "ipython",
    "version": 3
   },
   "file_extension": ".py",
   "mimetype": "text/x-python",
   "name": "python",
   "nbconvert_exporter": "python",
   "pygments_lexer": "ipython3",
   "version": "3.9.10"
  }
 },
 "nbformat": 4,
 "nbformat_minor": 5
}
