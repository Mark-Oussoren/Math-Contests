{
 "cells": [
  {
   "cell_type": "markdown",
   "id": "ad4c56cd",
   "metadata": {},
   "source": [
    "# Problems in the Wild\n",
    "\n",
    "Here I go over contest math problems and bin them according to the tactics I employ. I will briefly uncover the rudimentary tactics that form the basis for most contest problems at the undergraduate and below levels (IMO, etc.)."
   ]
  },
  {
   "cell_type": "markdown",
   "id": "e437c9ea",
   "metadata": {},
   "source": [
    "# Vandermonde's Matrix\n",
    "\n",
    "While not one of the more integral tricks to contest math, a good understanding of Vandermonde's matrix can go a long way even in contests like Putnam or international math contests like the Miklos Schweitzer. A **Vandermonde matrix** is one of the form\n",
    "\n",
    "$$X = \\begin{bmatrix} 1 & x_1 & x_1^2 & \\cdots & x_1^n \\\\ 1 & x_2 & x_2^2 & \\cdots & x_2^n \\\\ \\vdots & \\ddots & \\ddots & \\vdots \\\\ 1 & x_m & x_m^2 & \\cdots & x_m^n \\end{bmatrix}.$$\n",
    "\n",
    "If $n+1 = m$, then we have the following **very important** fact:\n",
    "\n",
    "$$\\det X = \\prod\\limits_{1\\leq i<j\\leq n} x_j - x_i.$$\n",
    "\n",
    "This is known usually as **Vandermonde's determinant**. The easiest proof of the clean formula is by row and column operations - you can easily do this by cofactor expansion and I leave it as a exercise for you to try out!\n",
    "\n",
    "## Contest Problems\n",
    "\n",
    "**Jozsef Wildt International Math Competition, W.2**: Find the area of the set $A = \\{(x,y) | 1\\leq x\\leq e,\\;0\\leq y\\leq f(x)\\}$, where \n",
    "\n",
    "$$f(x) = \\det\\begin{pmatrix} 1 & 1 & 1 & 1 \\\\ \\ln(x) & 2\\ln(x) & 3\\ln(x) & 4\\ln(x) \\\\ \\ln(x)^2 & 4\\ln(x)^2 & 9\\ln(x)^2 & 16\\ln(x)^2 \\\\ \\ln(x)^3 & 8\\ln(x)^3 & 27\\ln(x)^3 & 64\\ln(x)^3 \\end{pmatrix}.$$\n",
    "\n",
    "**Answer**: We first notice that as $\\det(A)=\\det(A^T)$, that our matrix is indeed a Vandermonde matrix from which we apply Vandermonde's determinant identity to obtain\n",
    "\n",
    "$$f(x)=\\left(4\\ln(x)-3\\ln(x)\\right)\\left(4\\ln(x)-2\\ln(x)\\right)\\left(4\\ln(x)-\\ln(x)\\right)\\left(3\\ln(x)-2\\ln(x)\\right)\\left(3\\ln(x)-\\ln(x)\\right)\\left(2\\ln(x)-\\ln(x)\\right)$$\n",
    "\n",
    "$$=12\\ln(x)^6.$$\n",
    "\n",
    "From this, we just compute the integral by iteratively applying integration by parts to arrive at the solution:\n",
    "\n",
    "$$A=\\int\\limits_1^e 12\\ln(x)^6\\;dx = 12\\left[x\\ln(x)^6\\Big|_1^e - 6\\left[\\frac{1}{2}x^2\\ln(x)^5\\Big|_1^e - \\frac{5}{2}\\left[\\frac{1}{3}x^3\\ln(x)^4\\Big|_1^e - \\frac{4}{3}\\left[\\frac{1}{4}x^4\\ln(x)^3\\Big|_1^e - \\frac{3}{4}\\left[\\frac{1}{5}x^5\\ln(x)^2\\Big|_1^e - \\frac{2}{5}\\left[\\frac{1}{6}x^6\\ln(x)\\Big|_1^e - \\frac{1}{6}\\left[\\frac{1}{7}x^7\\ln(x)\\Big|_1^e - \\frac{1}{7}\\int\\limits_1^e x^6\\;dx\\right]\\right]\\right]\\right]\\right]\\right]\\right]$$"
   ]
  },
  {
   "cell_type": "markdown",
   "id": "d2141ddc",
   "metadata": {},
   "source": [
    "# Games\n",
    "\n",
    "Games are fun problems that are generally built around the principles of induction or recursion. That is, if I start with a very simple instance of the game, can I extend this to the case of a slightly more challenging instance? Aside from recursion, I believe game problems can be solved quickly like CS problems by generating simple examples of the game and edge cases. \n",
    "\n",
    "## Contest Problems\n",
    "\n",
    "\n",
    "**2020 Putnam Contest, B2**: Let $k$ and $n$ be integers with $1\\leq k\\leq n$. Alice and Bob play a game with $k$ pegs in a line of $n$ holes. At the beginning of the game, the pegs occupy the $k$ leftmost holes. A legal move consists of moving a single peg to any vacant hole that is further to the right. The players alternate moves, with Alice playing first. The game ends when the pegs are in the $k$ rightmost holes, so whoever is next to play cannot move and therefore loses. For what values of $n$ and $k$ does Alice have a winning strategy?\n",
    "\n",
    "**2008 Putnam Contest, A2**: Alan and Barbara play a game in which they take turns filling entries of an initially empty $2008\\times 2008$ array. Alan plays first. At each turn, a player chooses a real number and places it in a vacant entry. The game ends when all the entries are filled. Alan wins if the determinant of the resulting matrix is nonzero; Barbara wins if it is zero. Which player has a winning strategy?\n",
    "\n",
    "**2020 Australian Mathematical Olympiad, Day 1**: Amy and Bee play the following game. Initially, there are three piles, each containing $2020$ stones. The players take turns to make a move, with Amy going first. Each move consists of choosing one of the piles available, removing the unchosen pile(s) from the game, and then dividing the chosen pile into 2 or 3 non-empty piles. A player looses the game if they are unable to make a move.\n",
    "\n",
    "Prove that Bee can always win the game,no matter how Amy plays.\n",
    "\n",
    "**Answer**: will come soon...\n"
   ]
  },
  {
   "cell_type": "markdown",
   "id": "e652a7ee",
   "metadata": {},
   "source": [
    "# Counting\n",
    "\n",
    "In counting, there are two basic structures we play with (excluding the more basic principles of multiplication, addition, etc.) - **permutations and combinations**. **Permutations** tell us the number of ways of arranging objects around where the order in which they appear matters - think about a marathon's possible finishing order, a government structure with hierarchy (1st position > 2nd position > ...), or similar systems. On the other hand, **combinations** tell us the number of arrangements where the order does not matter - i.e. how many salads can I make with these ingredients (the order in which you put the ingredients in the salad here does not influence the salad you end up with).\n",
    "\n",
    "A permutation is denoted as ${}^n P_k$ where we say with $n$ elements, we permute $k$ to obtain ${}^n P_k$ arrangements. We can mathematicaly compute this by noting that for the first choice of element, we have $n$ choices and for the second choice, the first choice is removed, so we have $n-1$, and this continues untill we have selected $k$ elements from the $n$. \n",
    "\n",
    "$${}^n P_k = (n-k+1)!=\\frac{n!}{(n-k)!}.$$\n",
    "\n",
    "A combination is denoted by $\\binom{n}{k}$ where we say \"n choose k\". We to obtain the number of arrangements, we take the number of permutations (n permute k), and divide by the number of permutations (k permute k). Why? Because when order does not matter, we need to divide by the added fluff of arrangements we get by considering all permutations. More concretely, think $\\frac{5!x_1+\\cdots + 5!x_n}{5!}$ - this is what we have more or less where each $x_i$ represents a unique pair of elements. \n",
    "\n",
    "$$\\binom{n}{k}=\\frac{{}^n P_k}{{}^k P_k} = \\frac{(n-k+1)!}{k!} = \\frac{n!}{k!(n-k)!}.$$\n",
    "\n",
    "Now with the basic structures of counting, there are a plethora of useful identities to keep in your backpocket.\n",
    "\n",
    "**Binomial Theorem**: For $x,y\\in\\mathbb{R}$, and $n\\in\\mathbb{N}$, we have \n",
    "\n",
    "$$(x+y)^n = \\sum\\limits_{k=0}^n \\binom{n}{k}x^ky^{n-k}.$$\n",
    "\n",
    "**Pascal's Formula**: For $n,k\\in\\mathbb{N}$ with $n\\geq k$, we have \n",
    "\n",
    "$$\\binom{n}{k} = \\binom{n-1}{k} + \\binom{n-1}{k-1}.$$\n",
    "\n",
    "And in fact, many more useful identities at the undergrad/high school level can be found **here**: https://artofproblemsolving.com/wiki/index.php/Combinatorics/Olympiad!\n",
    "\n",
    "Often times, the tactics are very simple; however, the crux of many combinatorial problems is in rewording or shifting the problem to something more familiar to you.\n",
    "\n",
    "## Contest Problems\n",
    "\n",
    "**2020 Abels Math Contest (Norwegian MO) Final, 1b**: A round table has room for $n$ diners ( $n\\ge  2$). There are napkins in three different colours. In how many ways can the napkins be placed, one for each seat, so that no two neighbours get napkins of the same colour?\n",
    "\n",
    "**Answer**: This one is pretty tricky for a high school contest haha. We employ the principles of counting: 1) fix a spot at the table, 2) for this spot, there are three napkins to choose from, 3) going around the table in a circle, this means that for the next spot we have 2 napkins that are distinct from the previous one, 4) the same is true for the next $n-2$ diners (there are two napkins that are distinct from the one that came before it) and so we employ the multiplicative rule to obtain $3\\cdot 2^{n-1}$ where $n$ again denotes the number of diners. HOWEVER, this overcounts the number of arrangements!! In actuality, the last seat does not have 2 napkins to choose from  because this includes the case where the first and last diner (paired together as it's a circle) share the same color napkin. How do we remedy this? Well this is where the CRUX is - the count of cases where the first and last napkin are the same is the same problem as if the first and last napkin were the same node/edge - in other words, the count is the same as the total orderings for $n-1$ seats. \n",
    "\n",
    "I restate again to ensure you understand - we overcounted for the case where the first and last diner share the same color napkin. We remedy this by finding the number of cases where the first and last diner share the same color napkin - this is exactly the instance where we have $n-1$ diners instead asking the same question. Thus, let $C(n)$ denote the orderings satisfying the question with $n$ diners, so we have\n",
    "\n",
    "$$C(n) = 3\\cdot 2^{n-1} - C(n-1).$$\n",
    "\n",
    "The problem blends in recursion into the tactics necessary to solve the problem! This recursion is easy to work out, and we end up with \n",
    "\n",
    "$$C(n) = 2^n + 2(-1)^n.$$\n",
    "\n",
    "**Putnam A2, 2021**: Let $k\\in\\mathbb{N}$. Evaluate\n",
    "\n",
    "$$\\sum\\limits_{j=0}^k 2^{k-j}\\binom{k+j}{j}.$$"
   ]
  },
  {
   "cell_type": "markdown",
   "id": "b86166d4",
   "metadata": {},
   "source": [
    "# Completing the Square\n",
    "\n",
    "This is another very trivial technique, but quite recurrent in many branches of applied math and contests. In essence, we would like to express a second-degree polynomial like $x^2+7x$ as a square plus some extra change. We do so as follows\n",
    "\n",
    "$$x^2+7x = (x+3.5)^2 - 3.5^2.$$\n",
    "\n",
    "More abstractly, we have $ax^2+bx = a(x^2+\\frac{b}{a}x)=a\\left((x+\\frac{b}{2a})^2 - \\left(\\frac{b}{2a}\\right)^2\\right)$.\n",
    "\n",
    "## Contest Problems\n",
    "\n",
    "**CIIM 2015 Problem 1**: Find the real number $a$ maximizing \n",
    "\n",
    "$$\\int\\limits_a^{a+8} e^{-x}e^{-x^2}\\;dx.$$\n",
    "\n",
    "**Answer**: We complete the square of the integrand to obtain\n",
    "\n",
    "$$\\int\\limits_a^{a+8} e^{-x}e^{-x^2}\\;dx = \\int\\limits_a^{a+8} e^{-(x+0.5)^2 + 0.5^2}\\;dx.$$\n",
    "\n",
    "As we are interested in maximizing this expression over $a$, we can discard the $e^{0.5^2}$ term. Then notice that for $Y\\sim \\mathcal{N}(-0.5, 1)$, our problem is given by \n",
    "\n",
    "$$\\max\\limits_{a\\in\\mathbb{R}}\\left\\{ \\int\\limits_a^{a+8} e^{-x}e^{-x^2}\\;dx\\right\\} = \\max\\limits_{a\\in\\mathbb{R}} \\left\\{\\mathbb{P}(Y\\leq a+8) - \\mathbb{P}(Y\\leq a)\\right\\}.$$\n",
    "\n",
    "As this is the normal distribution, we know the maximum of this area is centered around the mean of $Y$, and so $a=-4.5$."
   ]
  },
  {
   "cell_type": "markdown",
   "id": "6dc54c10",
   "metadata": {},
   "source": [
    "# HM-GM-AM-QM Inequality\n",
    "\n",
    "The HM-GM-AM-QM inequality broadly states that for a FINITE, POSITIVE set of real numbers $[x_k]_{k=1}^n$, then we have \n",
    "\n",
    "$$0 < \\frac{n}{x_1^{-1} + x_2^{-1} + \\cdots + x_n^{-1}} \\leq \\left(\\prod\\limits_{i=1}^n x_i\\right)^{1/n}\\leq \\frac{1}{n}\\sum\\limits_{i=1}^n x_i\\leq \\sqrt{\\frac{1}{n}\\sum\\limits_{i=1}^n x_i^2}.$$\n",
    "\n",
    "An easy question for you: when is there equality amongst all the different kinds of means? A follow up - what about equality among subsets - i.e. are there other cases where the AM and QM are equivalent or the HM and GM?\n",
    "\n",
    "**Answer**: When $x_1=\\cdots=x_n$, we trivially satisfy equality as the set is positive and finite. Now I leave it to you to show this case is unique and to possibly answer the follow up question I gave.\n",
    "\n",
    "## Contest Problems \n",
    "\n",
    "**Putnam B2, 2022**: Determine the maximum value of the sum\n",
    "\n",
    "$$S=\\sum\\limits_{n=1}^\\infty \\frac{n}{2^n}\\left(a_1\\cdots a_n\\right)^{1/n}$$\n",
    "\n",
    "over all sequences $\\{a_k\\}_{k=1}^\\infty$ in the infinite-dimensional simplex."
   ]
  },
  {
   "cell_type": "markdown",
   "id": "2f3aec0f",
   "metadata": {},
   "source": [
    "# Induction\n",
    "\n",
    "**Putnam B6, 2022**: Given an ordered list of $3N$ real numbers, we can trim it to form a list of $N$ numbers as follows: We divide the list into $N$ groups of $3$ consecutive numbers, and within each group, discard the highest and lowest num- bers, keeping only the median.\n",
    "\n",
    "Consider generating a random number $X$ by the following procedure: Start with a list of $3^{2021}$ numbers, drawn independently and uniformly at random between $0$ and $1$. Then trim this list as defined above, leaving a list of $3^{2020}$ numbers. Then trim again repeatedly until just one number remains; let $X$ be this number. Let $\\mu$ be the expected value of $|X − 1|$. Show that \n",
    "\n",
    "$$\\mu\\geq \\frac{1}{4}\\left(\\frac{2}{3}\\right)^{2021}.$$"
   ]
  },
  {
   "cell_type": "markdown",
   "id": "3a0f261e",
   "metadata": {},
   "source": [
    "# Integration by Parts\n",
    "\n",
    "In a basic calculus course, we are taught the following powerful theorem.\n",
    "\n",
    "**Theorem**: Let $f,g:[a,b]\\rightarrow \\mathbb{R}$ be continuously differentiable. Then,\n",
    "\n",
    "$$\\int\\limits_a^b f(x)g'(x)\\;dx = f(x)g(x)\\Big|_a^b - \\int\\limits_a^b f'(x)g(x)\\;dx.$$\n",
    "\n",
    "**Proof**: By Chain rule, \n",
    "\n",
    "$$\\frac{d}{dx}\\left( f(x)g(x)\\right) = f(x)g'(x) + f'(x)g(x).$$\n",
    "\n",
    "Thus, \n",
    "\n",
    "$$\\int\\limits_a^b \\frac{d}{dx}\\left( f(x)g(x)\\right)\\;dx = \\int\\limits_a^b f(x)g'(x) + f'(x)g(x)\\;dx.$$\n",
    "\n",
    "By the second Fundamental theorem of Calculus, we have\n",
    "\n",
    "$$\\int\\limits_a^b \\frac{d}{dx}\\left( f(x)g(x)\\right)\\;dx = f(x)g(x)\\Big|_a^b$$\n",
    "\n",
    "from which we move around expressions to obtain the integration by parts formula.\n",
    "\n",
    "\n",
    "\n",
    "## Contest Problems\n",
    "\n",
    "**2019 SEEMOUS \\#4**: a) Let $n\\in\\mathbb{N}$. Calculate \n",
    "\n",
    "$$\\int\\limits_0^1 x^{n-1}\\ln(x)\\;dx.$$ \n",
    "\n",
    "b) Calculate \n",
    "\n",
    "$$\\sum\\limits_{n=0}^\\infty (-1)^n \\left(\\frac{1}{(n+1)^2} - \\frac{1}{(n+2)^2} + \\frac{1}{(n+3)^2}-\\cdots\\right).$$\n",
    "\n",
    "**Answer**: For a), let $f(x)=\\ln(x)$ and $g'(x)=x^{n-1}$. Then we have integrating by parts\n",
    "\n",
    "$$\\int\\limits_0^1 x\\ln(x)\\;dx = \\ln(x)\\frac{x^n}{n}\\Big|_0^1 - \\int\\limits_0^1 \\frac{x^n}{n}\\cdot \\frac{1}{x}\\;dx = -\\frac{1}{n^2}.$$\n",
    "\n",
    "The second part uses part a) and noticing the sum represents the Taylor expansion of some function. **You** fill in the details and end up with $\\log(2).$\n",
    "    \n",
    " "
   ]
  },
  {
   "cell_type": "markdown",
   "id": "29e63e2e",
   "metadata": {},
   "source": [
    "# Extremal Principle\n",
    "\n",
    "asdf."
   ]
  },
  {
   "cell_type": "markdown",
   "id": "b1f6c90b",
   "metadata": {},
   "source": [
    "# Difference Sequences (& sequences generally)\n",
    "\n",
    "asdf."
   ]
  },
  {
   "cell_type": "markdown",
   "id": "38395b70",
   "metadata": {},
   "source": [
    "# Cauchy–Schwarz\n",
    "\n",
    "This is of course trivial, but it pops up sooo much, I figure I would subdivide it into its own section."
   ]
  },
  {
   "cell_type": "markdown",
   "id": "a50a0917",
   "metadata": {},
   "source": [
    "# Number Theory\n",
    "\n",
    "I hate this topic with a passion and so I pass up on any discussion. I group polynomials in this category as well (mainly because I suck at these types of problems)."
   ]
  },
  {
   "cell_type": "markdown",
   "id": "91b07461",
   "metadata": {},
   "source": [
    "# Sources\n",
    "\n",
    "- https://kskedlaya.org/putnam-archive/\n",
    "\n",
    "- https://artofproblemsolving.com/community\n",
    "\n",
    "- https://mathematicalolympiads.files.wordpress.com/2012/08/75427434-problem-books-in-mathematics-problem-solving-strategies.pdf\n",
    "\n",
    "- https://artofproblemsolving.com/wiki/index.php/Combinatorics/Olympiad"
   ]
  }
 ],
 "metadata": {
  "kernelspec": {
   "display_name": "R",
   "language": "R",
   "name": "ir"
  },
  "language_info": {
   "codemirror_mode": "r",
   "file_extension": ".r",
   "mimetype": "text/x-r-source",
   "name": "R",
   "pygments_lexer": "r",
   "version": "4.0.3"
  }
 },
 "nbformat": 4,
 "nbformat_minor": 5
}
