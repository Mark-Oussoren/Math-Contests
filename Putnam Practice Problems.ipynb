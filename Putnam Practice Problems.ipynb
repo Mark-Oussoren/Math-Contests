{
 "cells": [
  {
   "cell_type": "markdown",
   "id": "ad4c56cd",
   "metadata": {},
   "source": [
    "# Contest Problems\n",
    "\n",
    "Here I go over contest math problems and bin them according to the tactics I employ. I will briefly uncover the rudimentary tactics that form the basis for most contest problems at the undergraduate and below levels (IMO, etc.)."
   ]
  },
  {
   "cell_type": "markdown",
   "id": "b4775da6",
   "metadata": {},
   "source": [
    "# Problems in the Wild\n",
    "\n",
    "This section includes the problems again sorted by type along with a link or brief exposition on the topic."
   ]
  },
  {
   "cell_type": "markdown",
   "id": "6dc54c10",
   "metadata": {},
   "source": [
    "# HM-GM-AM-QM Inequality\n",
    "\n",
    "**Putnam B2, 2022**: Determine the maximum value of the sum\n",
    "\n",
    "$$S=\\sum\\limits_{n=1}^\\infty \\frac{n}{2^n}\\left(a_1\\cdots a_n\\right)^{1/n}$$\n",
    "\n",
    "over all sequences $\\{a_k\\}_{k=1}^\\infty$ in the infinite-dimensional simplex."
   ]
  },
  {
   "cell_type": "markdown",
   "id": "2f3aec0f",
   "metadata": {},
   "source": [
    "# Induction\n",
    "\n",
    "**Putnam B6, 2022**: Given an ordered list of $3N$ real numbers, we can trim it to form a list of $N$ numbers as follows: We divide the list into $N$ groups of $3$ consecutive numbers, and within each group, discard the highest and lowest num- bers, keeping only the median.\n",
    "\n",
    "Consider generating a random number $X$ by the following procedure: Start with a list of $3^2021$ numbers, drawn independently and uniformly at random between $0$ and $1$. Then trim this list as defined above, leaving a list of $3^2020$ numbers. Then trim again repeatedly until just one number remains; let $X$ be this number. Let $\\mu$ be the expected value of $|X − 1|$. Show that \n",
    "\n",
    "$$\\mu\\geq \\frac{1}{4}\\left(\\frac{2}{3}\\right)^{2021}.$$"
   ]
  },
  {
   "cell_type": "markdown",
   "id": "29e63e2e",
   "metadata": {},
   "source": [
    "# Extremal Principle\n",
    "\n",
    "asdf."
   ]
  },
  {
   "cell_type": "markdown",
   "id": "d2141ddc",
   "metadata": {},
   "source": [
    "# Games\n",
    "\n",
    "I like game problems - Alice and Bob are playing checkers and xyz occurs. These are usually first or second problems on the Putnam and gimmies.\n",
    "\n"
   ]
  },
  {
   "cell_type": "markdown",
   "id": "b1f6c90b",
   "metadata": {},
   "source": [
    "# Difference Sequences (& sequences generally)\n",
    "\n",
    "asdf."
   ]
  },
  {
   "cell_type": "markdown",
   "id": "e652a7ee",
   "metadata": {},
   "source": [
    "# Counting\n",
    "\n",
    "**Putnam A2, 2021**: Let $k\\in\\mathbb{N}$. Evaluate\n",
    "\n",
    "$$\\sum\\limits_{j=0}^k 2^{k-j}\\binom{k+j}{j}.$$\n",
    "\n"
   ]
  },
  {
   "cell_type": "markdown",
   "id": "38395b70",
   "metadata": {},
   "source": [
    "# Cauchy–Schwarz\n",
    "\n",
    "This is of course trivial, but it pops up sooo much, I figure I would subdivide it into its own section.\n",
    "\n"
   ]
  },
  {
   "cell_type": "markdown",
   "id": "a50a0917",
   "metadata": {},
   "source": [
    "# Number Theory\n",
    "\n",
    "I hate this topic with a passion and so I pass up on any discussion. I group polynomials in this category as well (mainly because I suck at these types of problems)."
   ]
  },
  {
   "cell_type": "markdown",
   "id": "91b07461",
   "metadata": {},
   "source": [
    "# Sources\n",
    "\n",
    "- https://kskedlaya.org/putnam-archive/\n",
    "\n",
    "- https://artofproblemsolving.com/community\n",
    "\n",
    "- https://mathematicalolympiads.files.wordpress.com/2012/08/75427434-problem-books-in-mathematics-problem-solving-strategies.pdf"
   ]
  }
 ],
 "metadata": {
  "kernelspec": {
   "display_name": "R",
   "language": "R",
   "name": "ir"
  },
  "language_info": {
   "codemirror_mode": "r",
   "file_extension": ".r",
   "mimetype": "text/x-r-source",
   "name": "R",
   "pygments_lexer": "r",
   "version": "4.0.3"
  }
 },
 "nbformat": 4,
 "nbformat_minor": 5
}
