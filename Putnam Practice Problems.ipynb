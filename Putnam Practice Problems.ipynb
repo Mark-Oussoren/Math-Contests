{
 "cells": [
  {
   "cell_type": "markdown",
   "id": "ad4c56cd",
   "metadata": {},
   "source": [
    "# Problems in the Wild\n",
    "\n",
    "Here I go over contest math problems and bin them according to the tactics I employ. I will briefly uncover the rudimentary tactics that form the basis for most contest problems at the undergraduate and below levels (IMO, etc.)."
   ]
  },
  {
   "cell_type": "markdown",
   "id": "6dc54c10",
   "metadata": {},
   "source": [
    "# HM-GM-AM-QM Inequality\n",
    "\n",
    "The HM-GM-AM-QM inequality broadly states that for a FINITE, POSITIVE set of real numbers $[x_k]_{k=1}^n$, then we have \n",
    "\n",
    "$$0 < \\frac{n}{x_1^{-1} + x_2^{-1} + \\cdots + x_n^{-1}} \\leq \\left(\\prod\\limits_{i=1}^n x_i\\right)^{1/n}\\leq \\frac{1}{n}\\sum\\limits_{i=1}^n x_i\\leq \\sqrt{\\frac{1}{n}\\sum\\limits_{i=1}^n x_i^2}.$$\n",
    "\n",
    "An easy question for you: when is there equality amongst all the different kinds of means? A follow up - what about equality among subsets - i.e. are there other cases where the AM and QM are equivalent or the HM and GM?\n",
    "\n",
    "**Answer**: When $x_1=\\cdots=x_n$, we trivially satisfy equality as the set is positive and finite. Now I leave it to you to show this case is unique and to possibly answer the follow up question I gave.\n",
    "\n",
    "## Contest Problems \n",
    "\n",
    "**Putnam B2, 2022**: Determine the maximum value of the sum\n",
    "\n",
    "$$S=\\sum\\limits_{n=1}^\\infty \\frac{n}{2^n}\\left(a_1\\cdots a_n\\right)^{1/n}$$\n",
    "\n",
    "over all sequences $\\{a_k\\}_{k=1}^\\infty$ in the infinite-dimensional simplex."
   ]
  },
  {
   "cell_type": "markdown",
   "id": "c380a119",
   "metadata": {},
   "source": [
    "# Integration by Parts\n",
    "\n",
    "In a basic calculus course, we are taught the following powerful theorem.\n",
    "\n",
    "**Theorem**: Let $f,g:[a,b]\\rightarrow \\mathbb{R}$ be continuously differentiable. Then,\n",
    "\n",
    "$$\\int\\limits_a^b f(x)g'(x)\\;dx = f(x)g(x)\\Big|_a^b - \\int\\limits_a^b f'(x)g(x)\\;dx.$$\n",
    "\n",
    "**Proof**: By Chain rule, \n",
    "\n",
    "$$\\frac{d}{dx}\\left( f(x)g(x)\\right) = f(x)g'(x) + f'(x)g(x).$$\n",
    "\n",
    "Thus, \n",
    "\n",
    "$$\\int\\limits_a^b \\frac{d}{dx}\\left( f(x)g(x)\\right)\\;dx = \\int\\limits_a^b f(x)g'(x) + f'(x)g(x)\\;dx.$$\n",
    "\n",
    "By the second Fundamental theorem of Calculus, we have\n",
    "\n",
    "$$\\int\\limits_a^b \\frac{d}{dx}\\left( f(x)g(x)\\right)\\;dx = f(x)g(x)\\Big|_a^b$$\n",
    "\n",
    "from which we move around expressions to obtain the integration by parts formula.\n",
    "\n",
    "\n",
    "\n",
    "## Contest Problems\n",
    "\n",
    "**2019 SEEMOUS \\#4**: a) Let $n\\in\\mathbb{N}$. Calculate \n",
    "\n",
    "$$\\int\\limits_0^1 x^{n-1}\\ln(x)\\;dx.$$ \n",
    "\n",
    "b) Calculate \n",
    "\n",
    "$$\\sum\\limits_{n=0}^\\infty (-1)^n \\left(\\frac{1}{(n+1)^2} - \\frac{1}{(n+2)^2} + \\frac{1}{(n+3)^2}-\\cdots\\right).$$\n",
    "\n",
    "**Answer**: For a), let $f(x)=\\ln(x)$ and $g'(x)=x^{n-1}$. Then we have integrating by parts\n",
    "\n",
    "$$\\int\\limits_0^1 x\\ln(x)\\;dx = \\ln(x)\\frac{x^n}{n}\\Big|_0^1 - \\int\\limits_0^1 \\frac{x^n}{n}\\cdot \\frac{1}{x}\\;dx = -\\frac{1}{n^2}.$$\n",
    "\n",
    "The second part uses part a) and noticing the sum represents the Taylor expansion of some function. **You** fill in the details and end up with $\\log(2).$\n",
    "    \n",
    " "
   ]
  },
  {
   "cell_type": "markdown",
   "id": "2f3aec0f",
   "metadata": {},
   "source": [
    "# Induction\n",
    "\n",
    "**Putnam B6, 2022**: Given an ordered list of $3N$ real numbers, we can trim it to form a list of $N$ numbers as follows: We divide the list into $N$ groups of $3$ consecutive numbers, and within each group, discard the highest and lowest num- bers, keeping only the median.\n",
    "\n",
    "Consider generating a random number $X$ by the following procedure: Start with a list of $3^2021$ numbers, drawn independently and uniformly at random between $0$ and $1$. Then trim this list as defined above, leaving a list of $3^2020$ numbers. Then trim again repeatedly until just one number remains; let $X$ be this number. Let $\\mu$ be the expected value of $|X − 1|$. Show that \n",
    "\n",
    "$$\\mu\\geq \\frac{1}{4}\\left(\\frac{2}{3}\\right)^{2021}.$$"
   ]
  },
  {
   "cell_type": "markdown",
   "id": "29e63e2e",
   "metadata": {},
   "source": [
    "# Extremal Principle\n",
    "\n",
    "asdf."
   ]
  },
  {
   "cell_type": "markdown",
   "id": "d2141ddc",
   "metadata": {},
   "source": [
    "# Games\n",
    "\n",
    "I like game problems - Alice and Bob are playing checkers and xyz occurs. These are usually first or second problems on the Putnam and gimmies.\n",
    "\n"
   ]
  },
  {
   "cell_type": "markdown",
   "id": "b1f6c90b",
   "metadata": {},
   "source": [
    "# Difference Sequences (& sequences generally)\n",
    "\n",
    "asdf."
   ]
  },
  {
   "cell_type": "markdown",
   "id": "e652a7ee",
   "metadata": {},
   "source": [
    "# Counting\n",
    "\n",
    "**Putnam A2, 2021**: Let $k\\in\\mathbb{N}$. Evaluate\n",
    "\n",
    "$$\\sum\\limits_{j=0}^k 2^{k-j}\\binom{k+j}{j}.$$\n",
    "\n"
   ]
  },
  {
   "cell_type": "markdown",
   "id": "38395b70",
   "metadata": {},
   "source": [
    "# Cauchy–Schwarz\n",
    "\n",
    "This is of course trivial, but it pops up sooo much, I figure I would subdivide it into its own section.\n",
    "\n"
   ]
  },
  {
   "cell_type": "markdown",
   "id": "a50a0917",
   "metadata": {},
   "source": [
    "# Number Theory\n",
    "\n",
    "I hate this topic with a passion and so I pass up on any discussion. I group polynomials in this category as well (mainly because I suck at these types of problems)."
   ]
  },
  {
   "cell_type": "markdown",
   "id": "91b07461",
   "metadata": {},
   "source": [
    "# Sources\n",
    "\n",
    "- https://kskedlaya.org/putnam-archive/\n",
    "\n",
    "- https://artofproblemsolving.com/community\n",
    "\n",
    "- https://mathematicalolympiads.files.wordpress.com/2012/08/75427434-problem-books-in-mathematics-problem-solving-strategies.pdf"
   ]
  }
 ],
 "metadata": {
  "kernelspec": {
   "display_name": "R",
   "language": "R",
   "name": "ir"
  },
  "language_info": {
   "codemirror_mode": "r",
   "file_extension": ".r",
   "mimetype": "text/x-r-source",
   "name": "R",
   "pygments_lexer": "r",
   "version": "4.0.3"
  }
 },
 "nbformat": 4,
 "nbformat_minor": 5
}
